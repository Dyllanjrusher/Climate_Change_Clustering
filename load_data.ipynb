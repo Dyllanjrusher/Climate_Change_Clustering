{
 "cells": [
  {
   "cell_type": "code",
   "execution_count": 1,
   "metadata": {},
   "outputs": [],
   "source": [
    "### Used the CDS api to download era5 datasets.\n",
    "import cdsapi"
   ]
  },
  {
   "cell_type": "code",
   "execution_count": 2,
   "metadata": {},
   "outputs": [],
   "source": [
    "c = cdsapi.Client()"
   ]
  },
  {
   "cell_type": "code",
   "execution_count": 3,
   "metadata": {},
   "outputs": [
    {
     "name": "stderr",
     "output_type": "stream",
     "text": [
      "2020-09-17 11:05:24,065 INFO Welcome to the CDS\n",
      "2020-09-17 11:05:24,067 INFO Sending request to https://cds.climate.copernicus.eu/api/v2/resources/reanalysis-era5-single-levels-monthly-means\n",
      "2020-09-17 11:05:25,260 INFO Request is queued\n",
      "2020-09-17 11:05:26,366 INFO Request is running\n",
      "2020-09-17 11:06:41,127 INFO Request is completed\n",
      "2020-09-17 11:06:41,129 INFO Downloading http://136.156.132.198/cache-compute-0003/cache/data6/adaptor.mars.internal-1600369525.673915-26964-23-cbfe5371-9f2a-495a-9a26-0f0a54f5b5a8.nc to monthly_er5_2018_subset.nc (22.2K)\n",
      "2020-09-17 11:06:41,431 INFO Download rate 73.5K/s\n"
     ]
    },
    {
     "data": {
      "text/plain": [
       "Result(content_length=22688,content_type=application/x-netcdf,location=http://136.156.132.198/cache-compute-0003/cache/data6/adaptor.mars.internal-1600369525.673915-26964-23-cbfe5371-9f2a-495a-9a26-0f0a54f5b5a8.nc)"
      ]
     },
     "execution_count": 3,
     "metadata": {},
     "output_type": "execute_result"
    }
   ],
   "source": [
    "#Using subset of data to make feature engineering funcs. Used subset for fast iteration from MVP -> current. \n",
    "c.retrieve(\n",
    "    'reanalysis-era5-single-levels-monthly-means',\n",
    "    {\n",
    "        'product_type': 'monthly_averaged_reanalysis',\n",
    "        'variable': [\n",
    "            '2m_temperature', 'total_precipitation',\n",
    "        ],\n",
    "        'year': '2018',\n",
    "        'month': [\n",
    "            '01', '02', '03',\n",
    "            '04', '05', '06',\n",
    "            '07', '08', '09',\n",
    "            '10', '11', '12',\n",
    "        ],\n",
    "        'time': '00:00',\n",
    "        'format': 'netcdf',\n",
    "        'area': [\n",
    "            45, 5, 40,\n",
    "            10,\n",
    "        ],\n",
    "    },\n",
    "    'monthly_er5_2018_subset.nc')"
   ]
  },
  {
   "cell_type": "code",
   "execution_count": 1,
   "metadata": {},
   "outputs": [
    {
     "name": "stderr",
     "output_type": "stream",
     "text": [
      "2020-09-17 08:45:16,008 INFO Welcome to the CDS\n",
      "2020-09-17 08:45:16,009 INFO Sending request to https://cds.climate.copernicus.eu/api/v2/resources/reanalysis-era5-single-levels-monthly-means\n",
      "2020-09-17 08:45:16,460 INFO Request is completed\n",
      "2020-09-17 08:45:16,461 INFO Downloading http://136.156.132.110/cache-compute-0001/cache/data5/adaptor.mars.internal-1600316779.5436137-30200-18-16b02a2e-952a-465f-9766-8d642633e69c.nc to monthly_era5_2018.nc (47.5M)\n",
      "2020-09-17 08:49:50,082 INFO Download rate 177.9K/s \n"
     ]
    },
    {
     "data": {
      "text/plain": [
       "Result(content_length=49845516,content_type=application/x-netcdf,location=http://136.156.132.110/cache-compute-0001/cache/data5/adaptor.mars.internal-1600316779.5436137-30200-18-16b02a2e-952a-465f-9766-8d642633e69c.nc)"
      ]
     },
     "execution_count": 1,
     "metadata": {},
     "output_type": "execute_result"
    }
   ],
   "source": [
    "#This is for the global clustering using Koppen inspired features, a proof of concept for my use case.\n",
    "c.retrieve(\n",
    "    'reanalysis-era5-single-levels-monthly-means',\n",
    "    {\n",
    "        'product_type': 'monthly_averaged_reanalysis',\n",
    "        'variable': [\n",
    "            '2m_temperature', 'total_precipitation',\n",
    "        ],\n",
    "        'year': '2018',\n",
    "        'month': [\n",
    "            '01', '02', '03',\n",
    "            '04', '05', '06',\n",
    "            '07', '08', '09',\n",
    "            '10', '11', '12',\n",
    "        ],\n",
    "        'time': '00:00',\n",
    "        'format': 'netcdf',\n",
    "    },\n",
    "    'monthly_era5_2018.nc')"
   ]
  },
  {
   "cell_type": "code",
   "execution_count": 3,
   "metadata": {},
   "outputs": [
    {
     "name": "stderr",
     "output_type": "stream",
     "text": [
      "2020-09-25 10:21:07,514 INFO Welcome to the CDS\n",
      "2020-09-25 10:21:07,516 INFO Sending request to https://cds.climate.copernicus.eu/api/v2/resources/reanalysis-era5-single-levels-monthly-means\n",
      "2020-09-25 10:21:08,241 INFO Request is queued\n",
      "2020-09-25 10:21:13,295 INFO Request is running\n",
      "2020-09-25 10:31:29,046 INFO Request is completed\n",
      "2020-09-25 10:31:29,048 INFO Downloading http://136.156.132.201/cache-compute-0004/cache/data8/adaptor.mars.internal-1601058071.2820036-7804-9-d45f2110-ffe2-4c5a-bf35-e429f56527d2.nc to monthly_era5_79_20.nc (85.1M)\n",
      "2020-09-25 10:32:04,317 INFO Download rate 2.4M/s   \n"
     ]
    },
    {
     "data": {
      "text/plain": [
       "Result(content_length=89272616,content_type=application/x-netcdf,location=http://136.156.132.201/cache-compute-0004/cache/data8/adaptor.mars.internal-1601058071.2820036-7804-9-d45f2110-ffe2-4c5a-bf35-e429f56527d2.nc)"
      ]
     },
     "execution_count": 3,
     "metadata": {},
     "output_type": "execute_result"
    }
   ],
   "source": [
    "#This is the climate data of west africa used for the crux of this project.\n",
    "c.retrieve(\n",
    "    'reanalysis-era5-single-levels-monthly-means',\n",
    "    {\n",
    "        'product_type': 'monthly_averaged_reanalysis',\n",
    "        'variable': [\n",
    "            '2m_temperature', 'total_precipitation',\n",
    "        ],\n",
    "        'year': [\n",
    "            '1979', '1980', '1981',\n",
    "            '1982', '1983', '1984',\n",
    "            '1985', '1986', '1987',\n",
    "            '1988', '1989', '1990',\n",
    "            '1991', '1992', '1993',\n",
    "            '1994', '1995', '1996',\n",
    "            '1997', '1998', '1999',\n",
    "            '2000', '2001', '2002',\n",
    "            '2003', '2004', '2005',\n",
    "            '2006', '2007', '2008',\n",
    "            '2009', '2010', '2011',\n",
    "            '2012', '2013', '2014',\n",
    "            '2015', '2016', '2017',\n",
    "            '2018', '2019', '2020',\n",
    "        ],\n",
    "        'month': [\n",
    "            '01', '02', '03',\n",
    "            '04', '05', '06',\n",
    "            '07', '08', '09',\n",
    "            '10', '11', '12',\n",
    "        ],\n",
    "        'time': '00:00',\n",
    "        'format': 'netcdf',\n",
    "        'area': [ #west africa south of the saharan desert\n",
    "            23.5, -18.5, -8.5,\n",
    "            24.5,\n",
    "        ],\n",
    "    },\n",
    "    'monthly_era5_79_20.nc')"
   ]
  },
  {
   "cell_type": "code",
   "execution_count": null,
   "metadata": {},
   "outputs": [],
   "source": []
  }
 ],
 "metadata": {
  "kernelspec": {
   "display_name": "Python 3",
   "language": "python",
   "name": "python3"
  },
  "language_info": {
   "codemirror_mode": {
    "name": "ipython",
    "version": 3
   },
   "file_extension": ".py",
   "mimetype": "text/x-python",
   "name": "python",
   "nbconvert_exporter": "python",
   "pygments_lexer": "ipython3",
   "version": "3.8.3"
  }
 },
 "nbformat": 4,
 "nbformat_minor": 4
}
